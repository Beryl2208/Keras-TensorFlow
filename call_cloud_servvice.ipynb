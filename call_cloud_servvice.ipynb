{
  "nbformat": 4,
  "nbformat_minor": 0,
  "metadata": {
    "colab": {
      "name": "call_cloud_servvice.ipynb",
      "version": "0.3.2",
      "provenance": [],
      "include_colab_link": true
    },
    "kernelspec": {
      "name": "python3",
      "display_name": "Python 3"
    }
  },
  "cells": [
    {
      "cell_type": "markdown",
      "metadata": {
        "id": "view-in-github",
        "colab_type": "text"
      },
      "source": [
        "<a href=\"https://colab.research.google.com/github/Beryl2208/Keras-TensorFlow/blob/master/call_cloud_servvice.ipynb\" target=\"_parent\"><img src=\"https://colab.research.google.com/assets/colab-badge.svg\" alt=\"Open In Colab\"/></a>"
      ]
    },
    {
      "metadata": {
        "id": "gXZL_5TnVqlM",
        "colab_type": "code",
        "colab": {}
      },
      "cell_type": "code",
      "source": [
        "from oauth2client.client import GoogleCredentials\n",
        "import googleapiclient.discovery\n",
        "\n",
        "# Change this values to match your project\n",
        "PROJECT_ID = \"keras-class\"\n",
        "MODEL_NAME = \"earnings\"\n",
        "CREDENTIALS_FILE = \"credentials.json\"\n",
        "\n",
        "# These are the values we want a prediction for\n",
        "inputs_for_prediction = [\n",
        "    {\"input\": [0.4999, 1.0, 0.0, 1.0, 0.0, 0.0, 0.0, 0.0, 0.5]}\n",
        "]\n",
        "\n",
        "# Connect to the Google Cloud-ML Service\n",
        "credentials = GoogleCredentials.from_stream(CREDENTIALS_FILE)\n",
        "service = googleapiclient.discovery.build('ml', 'v1', credentials=credentials)\n",
        "\n",
        "# Connect to our Prediction Model\n",
        "name = 'projects/{}/models/{}'.format(PROJECT_ID, MODEL_NAME)\n",
        "response = service.projects().predict(\n",
        "    name=name,\n",
        "    body={'instances': inputs_for_prediction}\n",
        ").execute()\n",
        "\n",
        "# Report any errors\n",
        "if 'error' in response:\n",
        "    raise RuntimeError(response['error'])\n",
        "\n",
        "# Grab the results from the response object\n",
        "results = response['predictions']\n",
        "\n",
        "# Print the results!\n",
        "print(results)\n"
      ],
      "execution_count": 0,
      "outputs": []
    }
  ]
}