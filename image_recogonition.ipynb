{
  "nbformat": 4,
  "nbformat_minor": 0,
  "metadata": {
    "colab": {
      "name": "image_recogonition.ipynb",
      "version": "0.3.2",
      "provenance": [],
      "collapsed_sections": [],
      "include_colab_link": true
    },
    "kernelspec": {
      "name": "python3",
      "display_name": "Python 3"
    }
  },
  "cells": [
    {
      "cell_type": "markdown",
      "metadata": {
        "id": "view-in-github",
        "colab_type": "text"
      },
      "source": [
        "<a href=\"https://colab.research.google.com/github/Beryl2208/Keras-TensorFlow/blob/master/image_recogonition.ipynb\" target=\"_parent\"><img src=\"https://colab.research.google.com/assets/colab-badge.svg\" alt=\"Open In Colab\"/></a>"
      ]
    },
    {
      "metadata": {
        "id": "ukakVXZ-7KY-",
        "colab_type": "code",
        "colab": {
          "base_uri": "https://localhost:8080/",
          "height": 185
        },
        "outputId": "66c9a6df-d8c7-401d-93fc-c31711cd12be"
      },
      "cell_type": "code",
      "source": [
        "import numpy as np\n",
        "from keras.preprocessing import image\n",
        "from keras.applications import resnet50\n",
        "\n",
        "# Load Keras' ResNet50 model that was pre-trained against the ImageNet database\n",
        "model = resnet50.ResNet50()\n",
        "\n",
        "# Load the image file, resizing it to 224x224 pixels (required by this model- beacause that is the size of ip nodes)\n",
        "img = image.load_img(\"seashore.jpg\", target_size=(224, 224))\n",
        "\n",
        "# Convert the image to a numpy array\n",
        "x = image.img_to_array(img)\n",
        "\n",
        "# Add a forth dimension since Keras expects a list of images\n",
        "x = np.expand_dims(x, axis=0)\n",
        "\n",
        "# Scale the input image to the range used in the trained network\n",
        "x = resnet50.preprocess_input(x)\n",
        "\n",
        "# Run the image through the deep neural network to make a prediction\n",
        "predictions = model.predict(x)\n",
        "\n",
        "# Look up the names of the predicted classes. Index zero is the results for the first image.\n",
        "predicted_classes = resnet50.decode_predictions(predictions, top=9)\n",
        "\n",
        "print(\"This is an image of:\")\n",
        "\n",
        "for imagenet_id, name, likelihood in predicted_classes[0]:\n",
        "    print(\" - {}: {:2f} likelihood\".format(name, likelihood))\n",
        "\n"
      ],
      "execution_count": 6,
      "outputs": [
        {
          "output_type": "stream",
          "text": [
            "This is an image of:\n",
            " - seashore: 0.727343 likelihood\n",
            " - sandbar: 0.235842 likelihood\n",
            " - lakeside: 0.013392 likelihood\n",
            " - breakwater: 0.005448 likelihood\n",
            " - cliff: 0.004035 likelihood\n",
            " - promontory: 0.003595 likelihood\n",
            " - maillot: 0.002337 likelihood\n",
            " - wreck: 0.001286 likelihood\n",
            " - catamaran: 0.000668 likelihood\n"
          ],
          "name": "stdout"
        }
      ]
    },
    {
      "metadata": {
        "id": "kIfxeUBC7ZgO",
        "colab_type": "code",
        "colab": {}
      },
      "cell_type": "code",
      "source": [
        ""
      ],
      "execution_count": 0,
      "outputs": []
    }
  ]
}