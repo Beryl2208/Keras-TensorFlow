{
  "nbformat": 4,
  "nbformat_minor": 0,
  "metadata": {
    "colab": {
      "name": "load_saved_model.ipynb",
      "version": "0.3.2",
      "provenance": [],
      "include_colab_link": true
    },
    "kernelspec": {
      "name": "python3",
      "display_name": "Python 3"
    }
  },
  "cells": [
    {
      "cell_type": "markdown",
      "metadata": {
        "id": "view-in-github",
        "colab_type": "text"
      },
      "source": [
        "<a href=\"https://colab.research.google.com/github/Beryl2208/Keras-TensorFlow/blob/master/load_saved_model.ipynb\" target=\"_parent\"><img src=\"https://colab.research.google.com/assets/colab-badge.svg\" alt=\"Open In Colab\"/></a>"
      ]
    },
    {
      "metadata": {
        "id": "PJPow3Uf5Zrw",
        "colab_type": "code",
        "colab": {
          "base_uri": "https://localhost:8080/",
          "height": 171
        },
        "outputId": "a6cff866-500f-4816-d1de-f12680f8b9f1"
      },
      "cell_type": "code",
      "source": [
        "import pandas as pd\n",
        "from keras.models import load_model\n",
        "\n",
        "model = load_model('trained_model.h5')\n",
        "\n",
        "X = pd.read_csv(\"proposed_new_product.csv\").values\n",
        "prediction = model.predict(X)\n",
        "\n",
        "# Grab just the first element of the first prediction (since we only have one)\n",
        "prediction = prediction[0][0]\n",
        "\n",
        "# Re-scale the data from the 0-to-1 range back to dollars\n",
        "# These constants are from when the data was originally scaled down to the 0-to-1 range\n",
        "prediction = prediction + 0.1159\n",
        "prediction = prediction / 0.0000036968\n",
        "\n",
        "print(\"Earnings Prediction for Proposed Product - ${}\".format(prediction))\n",
        "\n"
      ],
      "execution_count": 1,
      "outputs": [
        {
          "output_type": "stream",
          "text": [
            "Using TensorFlow backend.\n"
          ],
          "name": "stderr"
        },
        {
          "output_type": "stream",
          "text": [
            "WARNING:tensorflow:From /usr/local/lib/python3.6/dist-packages/tensorflow/python/framework/op_def_library.py:263: colocate_with (from tensorflow.python.framework.ops) is deprecated and will be removed in a future version.\n",
            "Instructions for updating:\n",
            "Colocations handled automatically by placer.\n",
            "WARNING:tensorflow:From /usr/local/lib/python3.6/dist-packages/tensorflow/python/ops/math_ops.py:3066: to_int32 (from tensorflow.python.ops.math_ops) is deprecated and will be removed in a future version.\n",
            "Instructions for updating:\n",
            "Use tf.cast instead.\n",
            "Earnings Prediction for Proposed Product - $266792.3173045885\n"
          ],
          "name": "stdout"
        }
      ]
    },
    {
      "metadata": {
        "id": "dRNIupCS5f2M",
        "colab_type": "code",
        "colab": {}
      },
      "cell_type": "code",
      "source": [
        ""
      ],
      "execution_count": 0,
      "outputs": []
    }
  ]
}